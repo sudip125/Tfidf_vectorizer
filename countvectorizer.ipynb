{
 "cells": [
  {
   "cell_type": "code",
   "execution_count": 1,
   "id": "9f8f2ba3",
   "metadata": {},
   "outputs": [],
   "source": [
    "import numpy as np\n",
    "import pandas as pd"
   ]
  },
  {
   "cell_type": "code",
   "execution_count": 2,
   "id": "8c4a0782",
   "metadata": {},
   "outputs": [],
   "source": [
    "df =pd.DataFrame({'Review':['This book book  is excellent for ML','This book is not suitable for beginners.',\n",
    "                        'Those who learn ML, I will recommend this book.','I was disappointed by this book.'],\n",
    "              'sentiment':[1,0,1,0]\n",
    "             \n",
    "             })"
   ]
  },
  {
   "cell_type": "code",
   "execution_count": 3,
   "id": "0705d8cd",
   "metadata": {},
   "outputs": [
    {
     "data": {
      "text/html": [
       "<div>\n",
       "<style scoped>\n",
       "    .dataframe tbody tr th:only-of-type {\n",
       "        vertical-align: middle;\n",
       "    }\n",
       "\n",
       "    .dataframe tbody tr th {\n",
       "        vertical-align: top;\n",
       "    }\n",
       "\n",
       "    .dataframe thead th {\n",
       "        text-align: right;\n",
       "    }\n",
       "</style>\n",
       "<table border=\"1\" class=\"dataframe\">\n",
       "  <thead>\n",
       "    <tr style=\"text-align: right;\">\n",
       "      <th></th>\n",
       "      <th>Review</th>\n",
       "      <th>sentiment</th>\n",
       "    </tr>\n",
       "  </thead>\n",
       "  <tbody>\n",
       "    <tr>\n",
       "      <th>0</th>\n",
       "      <td>This book book  is excellent for ML</td>\n",
       "      <td>1</td>\n",
       "    </tr>\n",
       "    <tr>\n",
       "      <th>1</th>\n",
       "      <td>This book is not suitable for beginners.</td>\n",
       "      <td>0</td>\n",
       "    </tr>\n",
       "    <tr>\n",
       "      <th>2</th>\n",
       "      <td>Those who learn ML, I will recommend this book.</td>\n",
       "      <td>1</td>\n",
       "    </tr>\n",
       "    <tr>\n",
       "      <th>3</th>\n",
       "      <td>I was disappointed by this book.</td>\n",
       "      <td>0</td>\n",
       "    </tr>\n",
       "  </tbody>\n",
       "</table>\n",
       "</div>"
      ],
      "text/plain": [
       "                                            Review  sentiment\n",
       "0              This book book  is excellent for ML          1\n",
       "1         This book is not suitable for beginners.          0\n",
       "2  Those who learn ML, I will recommend this book.          1\n",
       "3                 I was disappointed by this book.          0"
      ]
     },
     "execution_count": 3,
     "metadata": {},
     "output_type": "execute_result"
    }
   ],
   "source": [
    "df"
   ]
  },
  {
   "cell_type": "markdown",
   "id": "cec2b147",
   "metadata": {},
   "source": [
    "## Parameters:\n",
    "\t1. Lowercase\n",
    "\t2. Stop_words\n",
    "\t3. Max_df -   \n",
    "\t4. Min_df\n",
    "\t5. Max_features\n",
    "\t6. Binary\n",
    "    7. N-gram\n",
    "    \n",
    "## Methods:\n",
    "\t7. Vocabulary_\n",
    "\t8. get_feather_out "
   ]
  },
  {
   "cell_type": "markdown",
   "id": "605937ab",
   "metadata": {},
   "source": [
    "# CountVectorizer"
   ]
  },
  {
   "cell_type": "code",
   "execution_count": 4,
   "id": "87fa3476",
   "metadata": {},
   "outputs": [],
   "source": [
    "from sklearn.feature_extraction.text import CountVectorizer\n",
    "\n",
    "cv = CountVectorizer(ngram_range=(1,2))\n",
    "bag_of_words = cv.fit_transform(df['Review'])"
   ]
  },
  {
   "cell_type": "code",
   "execution_count": 5,
   "id": "12b7ece7",
   "metadata": {},
   "outputs": [
    {
     "data": {
      "text/plain": [
       "array([[0, 2, 1, 1, 0, 0, 0, 0, 1, 1, 1, 0, 1, 1, 1, 0, 0, 0, 1, 0, 0, 0,\n",
       "        0, 0, 0, 0, 1, 1, 0, 0, 0, 0, 0, 0, 0, 0],\n",
       "       [1, 1, 0, 1, 0, 0, 0, 0, 0, 0, 1, 1, 0, 1, 0, 1, 0, 0, 0, 0, 1, 1,\n",
       "        0, 0, 1, 1, 1, 1, 0, 0, 0, 0, 0, 0, 0, 0],\n",
       "       [0, 1, 0, 0, 0, 0, 0, 0, 0, 0, 0, 0, 0, 0, 0, 0, 1, 1, 1, 1, 0, 0,\n",
       "        1, 1, 0, 0, 1, 1, 1, 1, 0, 0, 1, 1, 1, 1],\n",
       "       [0, 1, 0, 0, 1, 1, 1, 1, 0, 0, 0, 0, 0, 0, 0, 0, 0, 0, 0, 0, 0, 0,\n",
       "        0, 0, 0, 0, 1, 1, 0, 0, 1, 1, 0, 0, 0, 0]], dtype=int64)"
      ]
     },
     "execution_count": 5,
     "metadata": {},
     "output_type": "execute_result"
    }
   ],
   "source": [
    "bag_of_words.toarray()# 4,17+19"
   ]
  },
  {
   "cell_type": "code",
   "execution_count": 6,
   "id": "04060560",
   "metadata": {
    "scrolled": true
   },
   "outputs": [
    {
     "data": {
      "text/plain": [
       "{'this': 26,\n",
       " 'book': 1,\n",
       " 'is': 13,\n",
       " 'excellent': 8,\n",
       " 'for': 10,\n",
       " 'ml': 18,\n",
       " 'this book': 27,\n",
       " 'book book': 2,\n",
       " 'book is': 3,\n",
       " 'is excellent': 14,\n",
       " 'excellent for': 9,\n",
       " 'for ml': 12,\n",
       " 'not': 20,\n",
       " 'suitable': 24,\n",
       " 'beginners': 0,\n",
       " 'is not': 15,\n",
       " 'not suitable': 21,\n",
       " 'suitable for': 25,\n",
       " 'for beginners': 11,\n",
       " 'those': 28,\n",
       " 'who': 32,\n",
       " 'learn': 16,\n",
       " 'will': 34,\n",
       " 'recommend': 22,\n",
       " 'those who': 29,\n",
       " 'who learn': 33,\n",
       " 'learn ml': 17,\n",
       " 'ml will': 19,\n",
       " 'will recommend': 35,\n",
       " 'recommend this': 23,\n",
       " 'was': 30,\n",
       " 'disappointed': 6,\n",
       " 'by': 4,\n",
       " 'was disappointed': 31,\n",
       " 'disappointed by': 7,\n",
       " 'by this': 5}"
      ]
     },
     "execution_count": 6,
     "metadata": {},
     "output_type": "execute_result"
    }
   ],
   "source": [
    "cv.vocabulary_"
   ]
  },
  {
   "cell_type": "code",
   "execution_count": 7,
   "id": "08a5ef7d",
   "metadata": {},
   "outputs": [
    {
     "data": {
      "text/plain": [
       "array(['beginners', 'book', 'book book', 'book is', 'by', 'by this',\n",
       "       'disappointed', 'disappointed by', 'excellent', 'excellent for',\n",
       "       'for', 'for beginners', 'for ml', 'is', 'is excellent', 'is not',\n",
       "       'learn', 'learn ml', 'ml', 'ml will', 'not', 'not suitable',\n",
       "       'recommend', 'recommend this', 'suitable', 'suitable for', 'this',\n",
       "       'this book', 'those', 'those who', 'was', 'was disappointed',\n",
       "       'who', 'who learn', 'will', 'will recommend'], dtype=object)"
      ]
     },
     "execution_count": 7,
     "metadata": {},
     "output_type": "execute_result"
    }
   ],
   "source": [
    "cv.get_feature_names_out(input_features=None)\n"
   ]
  },
  {
   "cell_type": "markdown",
   "id": "bc07bb93",
   "metadata": {},
   "source": [
    "# TfidfVectorizer"
   ]
  },
  {
   "cell_type": "code",
   "execution_count": 9,
   "id": "65e19346",
   "metadata": {},
   "outputs": [],
   "source": [
    "from sklearn.feature_extraction.text import TfidfVectorizer\n",
    "\n",
    "tf =TfidfVectorizer()\n",
    "tf_idf = tf.fit_transform(df['Review'])"
   ]
  },
  {
   "cell_type": "code",
   "execution_count": 10,
   "id": "06fc1e58",
   "metadata": {},
   "outputs": [
    {
     "data": {
      "text/plain": [
       "array([[0.        , 0.50767386, 0.        , 0.        , 0.48642536,\n",
       "        0.38350334, 0.38350334, 0.        , 0.38350334, 0.        ,\n",
       "        0.        , 0.        , 0.25383693, 0.        , 0.        ,\n",
       "        0.        , 0.        ],\n",
       "       [0.45701556, 0.23848968, 0.        , 0.        , 0.        ,\n",
       "        0.36031631, 0.36031631, 0.        , 0.        , 0.45701556,\n",
       "        0.        , 0.45701556, 0.23848968, 0.        , 0.        ,\n",
       "        0.        , 0.        ],\n",
       "       [0.        , 0.21014969, 0.        , 0.        , 0.        ,\n",
       "        0.        , 0.        , 0.4027079 , 0.31749953, 0.        ,\n",
       "        0.4027079 , 0.        , 0.21014969, 0.4027079 , 0.        ,\n",
       "        0.4027079 , 0.4027079 ],\n",
       "       [0.        , 0.27717414, 0.53114624, 0.53114624, 0.        ,\n",
       "        0.        , 0.        , 0.        , 0.        , 0.        ,\n",
       "        0.        , 0.        , 0.27717414, 0.        , 0.53114624,\n",
       "        0.        , 0.        ]])"
      ]
     },
     "execution_count": 10,
     "metadata": {},
     "output_type": "execute_result"
    }
   ],
   "source": [
    "tf_idf.toarray()"
   ]
  },
  {
   "cell_type": "code",
   "execution_count": 17,
   "id": "bc3943f0",
   "metadata": {},
   "outputs": [
    {
     "data": {
      "text/plain": [
       "array([1.91629073, 1.        , 1.91629073, 1.91629073, 1.91629073,\n",
       "       1.51082562, 1.51082562, 1.91629073, 1.51082562, 1.91629073,\n",
       "       1.91629073, 1.91629073, 1.        , 1.91629073, 1.91629073,\n",
       "       1.91629073, 1.91629073])"
      ]
     },
     "execution_count": 17,
     "metadata": {},
     "output_type": "execute_result"
    }
   ],
   "source": [
    "tf.idf_"
   ]
  },
  {
   "cell_type": "code",
   "execution_count": 16,
   "id": "b9375a21",
   "metadata": {},
   "outputs": [
    {
     "data": {
      "text/plain": [
       "array(['beginners', 'book', 'by', 'disappointed', 'excellent', 'for',\n",
       "       'is', 'learn', 'ml', 'not', 'recommend', 'suitable', 'this',\n",
       "       'those', 'was', 'who', 'will'], dtype=object)"
      ]
     },
     "execution_count": 16,
     "metadata": {},
     "output_type": "execute_result"
    }
   ],
   "source": [
    "tf.get_feature_names_out()"
   ]
  },
  {
   "cell_type": "code",
   "execution_count": null,
   "id": "79a868fa",
   "metadata": {},
   "outputs": [],
   "source": []
  }
 ],
 "metadata": {
  "kernelspec": {
   "display_name": "Python 3 (ipykernel)",
   "language": "python",
   "name": "python3"
  },
  "language_info": {
   "codemirror_mode": {
    "name": "ipython",
    "version": 3
   },
   "file_extension": ".py",
   "mimetype": "text/x-python",
   "name": "python",
   "nbconvert_exporter": "python",
   "pygments_lexer": "ipython3",
   "version": "3.9.13"
  }
 },
 "nbformat": 4,
 "nbformat_minor": 5
}
